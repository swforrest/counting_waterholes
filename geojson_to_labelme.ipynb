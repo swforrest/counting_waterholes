{
 "cells": [
  {
   "cell_type": "markdown",
   "metadata": {},
   "source": [
    "# Script to convert between geojson (outputted by QGIS) and the json format required by labelme"
   ]
  },
  {
   "cell_type": "code",
   "execution_count": 1,
   "metadata": {},
   "outputs": [],
   "source": [
    "import json\n",
    "import os\n",
    "from datetime import datetime"
   ]
  },
  {
   "cell_type": "code",
   "execution_count": 8,
   "metadata": {},
   "outputs": [],
   "source": [
    "def geojson_to_labelme(geojson_path, image_path, image_height=None, image_width=None, label_name='waterhole'):\n",
    "    \"\"\"\n",
    "    Convert GeoJSON point features to LabelMe JSON format.\n",
    "    \n",
    "    Args:\n",
    "        geojson_path (str): Path to input GeoJSON file\n",
    "        image_path (str): Path to the corresponding image file\n",
    "        \n",
    "    Returns:\n",
    "        dict: LabelMe formatted JSON\n",
    "    \"\"\"\n",
    "    # Read GeoJSON file\n",
    "    with open(geojson_path, 'r') as f:\n",
    "        geojson_data = json.load(f)\n",
    "    \n",
    "    # Initialize LabelMe JSON structure\n",
    "    labelme_json = {\n",
    "        \"version\": \"5.6.1\",\n",
    "        \"flags\": {},\n",
    "        \"shapes\": [],\n",
    "        \"imagePath\": os.path.basename(image_path),\n",
    "        \"imageData\": None,  # LabelMe stores base64 image data here, but we'll leave it empty\n",
    "        \"imageHeight\": image_height,  \n",
    "        \"imageWidth\": image_width\n",
    "    }\n",
    "    \n",
    "    # Convert each GeoJSON feature to LabelMe shape\n",
    "    for feature in geojson_data['features']:\n",
    "        # Get coordinates (assuming Point geometry)\n",
    "        coords = feature['geometry']['coordinates']\n",
    "        \n",
    "        # Create point annotation (LabelMe uses a small rectangle for points)\n",
    "        point_size = 5  # Size of the point representation in pixels\n",
    "        x, y = coords[0], coords[1]\n",
    "        \n",
    "        shape = {\n",
    "            \"label\": label_name,\n",
    "            # \"label\": feature['properties'].get('label', 'point'),  # Use 'label' property or default to 'point'\n",
    "            \"points\": [\n",
    "                [x - point_size, y - point_size],  # Top-left\n",
    "                [x + point_size, y + point_size]   # Bottom-right\n",
    "            ],\n",
    "            \"group_id\": None,\n",
    "            \"shape_type\": \"rectangle\",\n",
    "            \"flags\": {}\n",
    "        }\n",
    "        \n",
    "        labelme_json['shapes'].append(shape)\n",
    "    \n",
    "    # Add creation time\n",
    "    labelme_json['timeStamp'] = datetime.now().isoformat()\n",
    "    \n",
    "    return labelme_json\n",
    "\n",
    "def save_labelme_json(labelme_json, output_path):\n",
    "    \"\"\"Save the LabelMe JSON to file.\"\"\"\n",
    "    with open(output_path, 'w') as f:\n",
    "        json.dump(labelme_json, f, indent=2)"
   ]
  },
  {
   "cell_type": "code",
   "execution_count": 9,
   "metadata": {},
   "outputs": [],
   "source": [
    "# Example usage\n",
    "if __name__ == \"__main__\":\n",
    "    # Replace these paths with your actual file paths\n",
    "    geojson_path = \"images\\labels\\waterholes_holly_v1.geojson\"\n",
    "    image_path = \"images\\labels\\20230428_example_SF.png\"\n",
    "    output_path = \"images\\labels\\waterholes_holly_v1.json\"\n",
    "    \n",
    "    # Convert and save\n",
    "    labelme_json = geojson_to_labelme(geojson_path, image_path)\n",
    "    save_labelme_json(labelme_json, output_path)"
   ]
  }
 ],
 "metadata": {
  "kernelspec": {
   "display_name": "Python 3",
   "language": "python",
   "name": "python3"
  },
  "language_info": {
   "codemirror_mode": {
    "name": "ipython",
    "version": 3
   },
   "file_extension": ".py",
   "mimetype": "text/x-python",
   "name": "python",
   "nbconvert_exporter": "python",
   "pygments_lexer": "ipython3",
   "version": "3.10.16"
  }
 },
 "nbformat": 4,
 "nbformat_minor": 2
}

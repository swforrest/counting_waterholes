{
 "cells": [
  {
   "cell_type": "markdown",
   "metadata": {},
   "source": [
    "## Import functions from planet_utils.py"
   ]
  },
  {
   "cell_type": "code",
   "execution_count": 23,
   "metadata": {},
   "outputs": [],
   "source": [
    "import os\n",
    "\n",
    "from datetime import datetime, timedelta\n",
    "\n",
    "import counting_boats.boat_utils.planet_utils as planet_utils"
   ]
  },
  {
   "cell_type": "markdown",
   "metadata": {},
   "source": [
    "### Select the polygon of interest"
   ]
  },
  {
   "cell_type": "code",
   "execution_count": 10,
   "metadata": {},
   "outputs": [],
   "source": [
    "polygon_name = 'mimal_subset'\n",
    "polygon_directory = 'data/polygons'\n",
    "selected_polygon = f'{polygon_directory}/{polygon_name}.geojson'"
   ]
  },
  {
   "cell_type": "markdown",
   "metadata": {},
   "source": [
    "### Select the date range of interest\n",
    "\n",
    "We have a date that we want, and we subtract and add a few days to get a range that we can query planet for."
   ]
  },
  {
   "cell_type": "code",
   "execution_count": 11,
   "metadata": {},
   "outputs": [],
   "source": [
    "# Given date as a string\n",
    "selected_date = '2024-05-10'\n",
    "\n",
    "# Convert string to datetime object\n",
    "selected_date_obj = datetime.strptime(selected_date, '%Y-%m-%d')\n",
    "\n",
    "# Subtract 2 days\n",
    "lower_date = selected_date_obj - timedelta(days=2)\n",
    "# Add 2 days\n",
    "upper_date = selected_date_obj + timedelta(days=2)\n",
    "\n",
    "# Convert back to string if needed\n",
    "lower_date_str = lower_date.strftime('%Y-%m-%d')\n",
    "upper_date_str = upper_date.strftime('%Y-%m-%d')"
   ]
  },
  {
   "cell_type": "code",
   "execution_count": 12,
   "metadata": {},
   "outputs": [
    {
     "name": "stdout",
     "output_type": "stream",
     "text": [
      "['20240511_003502_29_24b6', '20240511_003457_99_24b6', '20240511_003500_14_24b6', '20240511_003504_43_24b6', '20240511_003811_54_24a1', '20240511_003809_41_24a1', '20240511_003805_14_24a1', '20240511_003807_28_24a1', '20240511_013003_32_24e5', '20240511_013005_58_24e5', '20240511_003642_41_24c7', '20240511_003644_56_24c7', '20240511_003640_26_24c7', '20240511_003638_11_24c7', '20240510_012847_78_2495', '20240510_012851_55_2495', '20240510_012849_66_2495', '20240510_012853_43_2495', '20240510_012701_08_24f3', '20240510_012656_59_24f3', '20240510_012658_84_24f3', '20240510_012654_34_24f3', '20240510_013011_79_2438', '20240510_013009_92_2438', '20240510_013008_04_2438', '20240510_013006_16_2438', '20240510_004141_22_2460', '20240510_004143_10_2460', '20240510_004139_35_2460', '20240508_013023_43_24f6', '20240508_013018_96_24f6', '20240508_013021_19_24f6', '20240508_012139_25_241c', '20240508_012133_49_241c', '20240508_012137_33_241c', '20240508_012135_41_241c', '20240508_003249_07_24ce', '20240508_003246_91_24ce', '20240508_013025_66_24f6']\n"
     ]
    }
   ],
   "source": [
    "polygon_search = planet_utils.PlanetSearch(\n",
    "    polygon_file=selected_polygon,\n",
    "    min_date=lower_date_str,\n",
    "    max_date=upper_date_str,\n",
    "    cloud_cover=0.5,\n",
    ")\n",
    "\n",
    "# print(bulman_search)\n",
    "\n",
    "# for item in bulman_search:\n",
    "#     print(item)\n",
    "\n",
    "# # let's look at the first result\n",
    "# print(list(bulman_search)[0])\n",
    "\n",
    "# extract image IDs only\n",
    "image_ids = [feature['id'] for feature in polygon_search]\n",
    "print(image_ids)"
   ]
  },
  {
   "cell_type": "code",
   "execution_count": 14,
   "metadata": {},
   "outputs": [
    {
     "name": "stdout",
     "output_type": "stream",
     "text": [
      "['20240510_012847_78_2495', '20240510_012851_55_2495', '20240510_012849_66_2495', '20240510_012853_43_2495', '20240510_012701_08_24f3', '20240510_012656_59_24f3', '20240510_012658_84_24f3', '20240510_012654_34_24f3', '20240510_013011_79_2438', '20240510_013009_92_2438', '20240510_013008_04_2438', '20240510_013006_16_2438', '20240510_004141_22_2460', '20240510_004143_10_2460', '20240510_004139_35_2460']\n"
     ]
    }
   ],
   "source": [
    "polygon_select = planet_utils.PlanetSelect(\n",
    "    polygon_search,\n",
    "    polygon=selected_polygon,\n",
    "    date=selected_date\n",
    ")\n",
    "\n",
    "# print(polygon_select)\n",
    "\n",
    "image_ids = [feature['id'] for feature in polygon_select]\n",
    "print(image_ids)"
   ]
  },
  {
   "cell_type": "code",
   "execution_count": 15,
   "metadata": {},
   "outputs": [],
   "source": [
    "polygon_order = planet_utils.PlanetOrder(\n",
    "    polygon_select,\n",
    "    polygon_file=selected_polygon,\n",
    "    name=polygon_name,\n",
    ")"
   ]
  },
  {
   "cell_type": "code",
   "execution_count": 19,
   "metadata": {},
   "outputs": [
    {
     "name": "stdout",
     "output_type": "stream",
     "text": [
      "86032d0c-9dec-45c7-8c60-cd1d4ae44fa2\n"
     ]
    }
   ],
   "source": [
    "print(polygon_order['id'])\n",
    "polygon_order = polygon_order['id']"
   ]
  },
  {
   "cell_type": "code",
   "execution_count": 25,
   "metadata": {},
   "outputs": [
    {
     "data": {
      "text/plain": [
       "'running'"
      ]
     },
     "execution_count": 25,
     "metadata": {},
     "output_type": "execute_result"
    }
   ],
   "source": [
    "planet_utils.PlanetCheckOrder(polygon_order)"
   ]
  },
  {
   "cell_type": "markdown",
   "metadata": {},
   "source": [
    "### Set output directory\n",
    "\n",
    "And create if it doesn't exist."
   ]
  },
  {
   "cell_type": "code",
   "execution_count": 24,
   "metadata": {},
   "outputs": [],
   "source": [
    "# output directory for saving probability values\n",
    "output_dir = f'images/RawImages'\n",
    "os.makedirs(output_dir, exist_ok=True)"
   ]
  },
  {
   "cell_type": "markdown",
   "metadata": {},
   "source": [
    "## Download the images (when ready)"
   ]
  },
  {
   "cell_type": "code",
   "execution_count": 26,
   "metadata": {},
   "outputs": [
    {
     "ename": "KeyError",
     "evalue": "'results'",
     "output_type": "error",
     "traceback": [
      "\u001b[1;31m---------------------------------------------------------------------------\u001b[0m",
      "\u001b[1;31mKeyError\u001b[0m                                  Traceback (most recent call last)",
      "Cell \u001b[1;32mIn[26], line 1\u001b[0m\n\u001b[1;32m----> 1\u001b[0m \u001b[43mplanet_utils\u001b[49m\u001b[38;5;241;43m.\u001b[39;49m\u001b[43mPlanetDownload\u001b[49m\u001b[43m(\u001b[49m\u001b[43morderID\u001b[49m\u001b[38;5;241;43m=\u001b[39;49m\u001b[43mpolygon_order\u001b[49m\u001b[43m,\u001b[49m\n\u001b[0;32m      2\u001b[0m \u001b[43m                            \u001b[49m\u001b[43maoi\u001b[49m\u001b[38;5;241;43m=\u001b[39;49m\u001b[43mpolygon_name\u001b[49m\u001b[43m,\u001b[49m\n\u001b[0;32m      3\u001b[0m \u001b[43m                            \u001b[49m\u001b[43mdate\u001b[49m\u001b[38;5;241;43m=\u001b[39;49m\u001b[43mselected_date\u001b[49m\u001b[43m,\u001b[49m\u001b[43m \u001b[49m\n\u001b[0;32m      4\u001b[0m \u001b[43m                            \u001b[49m\u001b[43mdownloadPath\u001b[49m\u001b[38;5;241;43m=\u001b[39;49m\u001b[43moutput_dir\u001b[49m\u001b[43m)\u001b[49m\n",
      "File \u001b[1;32mc:\\Users\\for329\\OneDrive - Queensland University of Technology\\FirstByte Waterholes WD\\counting_waterholes\\counting_boats\\boat_utils\\planet_utils.py:228\u001b[0m, in \u001b[0;36mPlanetDownload\u001b[1;34m(orderID, aoi, date, downloadPath)\u001b[0m\n\u001b[0;32m    226\u001b[0m     \u001b[38;5;28;01mraise\u001b[39;00m \u001b[38;5;167;01mException\u001b[39;00m(\u001b[38;5;124m\"\u001b[39m\u001b[38;5;124mPlanet API returned non-200 status code\u001b[39m\u001b[38;5;124m\"\u001b[39m)\n\u001b[0;32m    227\u001b[0m \u001b[38;5;66;03m# grab the location uri\u001b[39;00m\n\u001b[1;32m--> 228\u001b[0m links \u001b[38;5;241m=\u001b[39m \u001b[43mresponse\u001b[49m\u001b[38;5;241;43m.\u001b[39;49m\u001b[43mjson\u001b[49m\u001b[43m(\u001b[49m\u001b[43m)\u001b[49m\u001b[43m[\u001b[49m\u001b[38;5;124;43m\"\u001b[39;49m\u001b[38;5;124;43m_links\u001b[39;49m\u001b[38;5;124;43m\"\u001b[39;49m\u001b[43m]\u001b[49m\u001b[43m[\u001b[49m\u001b[38;5;124;43m\"\u001b[39;49m\u001b[38;5;124;43mresults\u001b[39;49m\u001b[38;5;124;43m\"\u001b[39;49m\u001b[43m]\u001b[49m\n\u001b[0;32m    229\u001b[0m download_link \u001b[38;5;241m=\u001b[39m [\n\u001b[0;32m    230\u001b[0m     link[\u001b[38;5;124m\"\u001b[39m\u001b[38;5;124mlocation\u001b[39m\u001b[38;5;124m\"\u001b[39m] \u001b[38;5;28;01mfor\u001b[39;00m link \u001b[38;5;129;01min\u001b[39;00m links \u001b[38;5;28;01mif\u001b[39;00m \u001b[38;5;124m\"\u001b[39m\u001b[38;5;124mmanifest\u001b[39m\u001b[38;5;124m\"\u001b[39m \u001b[38;5;129;01mnot\u001b[39;00m \u001b[38;5;129;01min\u001b[39;00m link[\u001b[38;5;124m\"\u001b[39m\u001b[38;5;124mname\u001b[39m\u001b[38;5;124m\"\u001b[39m]\n\u001b[0;32m    231\u001b[0m ][\u001b[38;5;241m0\u001b[39m]\n\u001b[0;32m    232\u001b[0m \u001b[38;5;66;03m# make the directory if it doesn't exist\u001b[39;00m\n",
      "\u001b[1;31mKeyError\u001b[0m: 'results'"
     ]
    }
   ],
   "source": [
    "planet_utils.PlanetDownload(orderID=polygon_order,\n",
    "                            aoi=polygon_name,\n",
    "                            date=selected_date, \n",
    "                            downloadPath=output_dir)"
   ]
  }
 ],
 "metadata": {
  "kernelspec": {
   "display_name": "Boats",
   "language": "python",
   "name": "python3"
  },
  "language_info": {
   "codemirror_mode": {
    "name": "ipython",
    "version": 3
   },
   "file_extension": ".py",
   "mimetype": "text/x-python",
   "name": "python",
   "nbconvert_exporter": "python",
   "pygments_lexer": "ipython3",
   "version": "3.10.16"
  }
 },
 "nbformat": 4,
 "nbformat_minor": 2
}

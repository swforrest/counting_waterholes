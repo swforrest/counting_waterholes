{
 "cells": [
  {
   "cell_type": "markdown",
   "metadata": {},
   "source": [
    "## Import functions from planet_utils.py"
   ]
  },
  {
   "cell_type": "code",
   "execution_count": 23,
   "metadata": {},
   "outputs": [],
   "source": [
    "import os\n",
    "\n",
    "from datetime import datetime, timedelta\n",
    "\n",
    "import counting_boats.boat_utils.planet_utils as planet_utils"
   ]
  },
  {
   "cell_type": "markdown",
   "metadata": {},
   "source": [
    "### Select the polygon of interest"
   ]
  },
  {
   "cell_type": "code",
   "execution_count": 10,
   "metadata": {},
   "outputs": [],
   "source": [
    "polygon_name = 'mimal_subset'\n",
    "polygon_directory = 'data/polygons'\n",
    "selected_polygon = f'{polygon_directory}/{polygon_name}.geojson'"
   ]
  },
  {
   "cell_type": "markdown",
   "metadata": {},
   "source": [
    "### Select the date range of interest\n",
    "\n",
    "We have a date that we want, and we subtract and add a few days to get a range that we can query planet for."
   ]
  },
  {
   "cell_type": "code",
   "execution_count": 52,
   "metadata": {},
   "outputs": [],
   "source": [
    "# Given date as a string\n",
    "selected_date = '2024-05-20'\n",
    "\n",
    "# Convert string to datetime object\n",
    "selected_date_obj = datetime.strptime(selected_date, '%Y-%m-%d')\n",
    "\n",
    "# Subtract 2 days\n",
    "lower_date = selected_date_obj - timedelta(days=2)\n",
    "# Add 2 days\n",
    "upper_date = selected_date_obj + timedelta(days=2)\n",
    "\n",
    "# Convert back to string if needed\n",
    "lower_date_str = lower_date.strftime('%Y-%m-%d')\n",
    "upper_date_str = upper_date.strftime('%Y-%m-%d')"
   ]
  },
  {
   "cell_type": "code",
   "execution_count": 53,
   "metadata": {},
   "outputs": [
    {
     "name": "stdout",
     "output_type": "stream",
     "text": [
      "['20240522_012424_70_24ee', '20240522_012941_24_24d2', '20240522_012422_46_24ee', '20240522_012420_22_24ee', '20240522_012417_98_24ee', '20240521_012805_74_24f3', '20240521_012759_03_24f3', '20240521_012801_27_24f3', '20240521_012803_50_24f3', '20240521_003828_51_24ba', '20240521_003830_65_24ba', '20240521_003826_37_24ba', '20240521_003832_79_24ba', '20240521_003612_38_24b3', '20240520_003742_16_24ca', '20240520_003740_01_24ca', '20240520_003744_30_24ca', '20240520_003737_87_24ca', '20240520_012329_92_227a', '20240520_012324_14_227a', '20240520_013015_91_24d1', '20240520_013022_64_24d1', '20240520_013020_39_24d1', '20240520_013013_66_24d1', '20240520_013018_15_24d1', '20240520_012327_99_227a', '20240520_012326_07_227a', '20240519_003719_74_24b4', '20240519_003713_32_24b4', '20240519_003717_60_24b4', '20240519_003715_46_24b4', '20240519_003721_87_24b4', '20240519_012919_58_24f6', '20240519_003801_62_24a8', '20240519_003757_33_24a8', '20240519_003759_48_24a8', '20240519_003755_19_24a8', '20240519_003753_04_24a8', '20240519_012917_36_24f6', '20240519_012915_14_24f6', '20240519_003619_57_24c3', '20240519_003621_71_24c3', '20240519_003617_43_24c3', '20240519_003613_15_24c3', '20240519_003615_29_24c3', '20240518_013118_49_2446', '20240518_013125_98_2446', '20240518_013124_11_2446', '20240518_013120_36_2446', '20240518_013122_23_2446', '20240518_013102_53_2488', '20240518_013058_78_2488', '20240518_013104_40_2488', '20240518_013056_91_2488', '20240518_013100_66_2488', '20240518_012938_29_2498', '20240518_012943_90_2498', '20240518_013017_37_24e0', '20240518_012942_03_2498', '20240518_012940_16_2498', '20240518_013026_28_24e0', '20240518_013019_60_24e0', '20240518_012945_77_2498', '20240518_013024_05_24e0', '20240518_013021_82_24e0', '20240518_013231_99_24c6', '20240518_013229_74_24c6', '20240518_012822_84_24b7', '20240518_012827_30_24b7']\n"
     ]
    }
   ],
   "source": [
    "polygon_search = planet_utils.PlanetSearch(\n",
    "    polygon_file=selected_polygon,\n",
    "    min_date=lower_date_str,\n",
    "    max_date=upper_date_str,\n",
    "    cloud_cover=0.2,\n",
    ")\n",
    "\n",
    "# print(bulman_search)\n",
    "\n",
    "# for item in bulman_search:\n",
    "#     print(item)\n",
    "\n",
    "# # let's look at the first result\n",
    "# print(list(bulman_search)[0])\n",
    "\n",
    "# extract image IDs only\n",
    "image_ids = [feature['id'] for feature in polygon_search]\n",
    "print(image_ids)"
   ]
  },
  {
   "cell_type": "code",
   "execution_count": 55,
   "metadata": {},
   "outputs": [
    {
     "name": "stdout",
     "output_type": "stream",
     "text": [
      "['20240519_003719_74_24b4', '20240519_003713_32_24b4', '20240519_003717_60_24b4', '20240519_003715_46_24b4', '20240519_003721_87_24b4', '20240519_012919_58_24f6', '20240519_003801_62_24a8', '20240519_003757_33_24a8', '20240519_003759_48_24a8', '20240519_003755_19_24a8', '20240519_003753_04_24a8', '20240519_012917_36_24f6', '20240519_012915_14_24f6', '20240519_003619_57_24c3', '20240519_003621_71_24c3', '20240519_003617_43_24c3', '20240519_003613_15_24c3', '20240519_003615_29_24c3']\n"
     ]
    }
   ],
   "source": [
    "selected_date = '2024-05-19'\n",
    "\n",
    "polygon_select = planet_utils.PlanetSelect(\n",
    "    polygon_search,\n",
    "    polygon=selected_polygon,\n",
    "    date=selected_date\n",
    ")\n",
    "\n",
    "# print(polygon_select)\n",
    "\n",
    "image_ids = [feature['id'] for feature in polygon_select]\n",
    "print(image_ids)"
   ]
  },
  {
   "cell_type": "code",
   "execution_count": 56,
   "metadata": {},
   "outputs": [],
   "source": [
    "polygon_order = planet_utils.PlanetOrder(\n",
    "    polygon_select,\n",
    "    polygon_file=selected_polygon,\n",
    "    name=polygon_name,\n",
    ")"
   ]
  },
  {
   "cell_type": "code",
   "execution_count": 57,
   "metadata": {},
   "outputs": [
    {
     "name": "stdout",
     "output_type": "stream",
     "text": [
      "a7fb7f73-2cd0-420e-ad5e-8252ce945042\n"
     ]
    }
   ],
   "source": [
    "print(polygon_order['id'])\n",
    "polygon_order = polygon_order['id']"
   ]
  },
  {
   "cell_type": "markdown",
   "metadata": {},
   "source": [
    "### Set output directory\n",
    "\n",
    "And create if it doesn't exist."
   ]
  },
  {
   "cell_type": "code",
   "execution_count": 58,
   "metadata": {},
   "outputs": [],
   "source": [
    "# output directory for saving probability values\n",
    "output_dir = f'images/RawImages'\n",
    "os.makedirs(output_dir, exist_ok=True)"
   ]
  },
  {
   "cell_type": "markdown",
   "metadata": {},
   "source": [
    "## Check the planet order\n",
    "\n",
    "It must read 'success' for the images to be downloaded."
   ]
  },
  {
   "cell_type": "code",
   "execution_count": 60,
   "metadata": {},
   "outputs": [
    {
     "data": {
      "text/plain": [
       "'success'"
      ]
     },
     "execution_count": 60,
     "metadata": {},
     "output_type": "execute_result"
    }
   ],
   "source": [
    "planet_utils.PlanetCheckOrder(polygon_order)"
   ]
  },
  {
   "cell_type": "markdown",
   "metadata": {},
   "source": [
    "## Download the images (when ready)"
   ]
  },
  {
   "cell_type": "code",
   "execution_count": 61,
   "metadata": {},
   "outputs": [
    {
     "name": "stdout",
     "output_type": "stream",
     "text": [
      "images/RawImages\\mimal_subset_2024-05-19.zip images/RawImages\\mimal_subset_2024-05-19\n"
     ]
    },
    {
     "data": {
      "text/plain": [
       "'2024-05-19_mimal_subset.tif'"
      ]
     },
     "execution_count": 61,
     "metadata": {},
     "output_type": "execute_result"
    }
   ],
   "source": [
    "planet_utils.PlanetDownload(orderID=polygon_order,\n",
    "                            aoi=polygon_name,\n",
    "                            date=selected_date, \n",
    "                            downloadPath=output_dir)"
   ]
  }
 ],
 "metadata": {
  "kernelspec": {
   "display_name": "Boats",
   "language": "python",
   "name": "python3"
  },
  "language_info": {
   "codemirror_mode": {
    "name": "ipython",
    "version": 3
   },
   "file_extension": ".py",
   "mimetype": "text/x-python",
   "name": "python",
   "nbconvert_exporter": "python",
   "pygments_lexer": "ipython3",
   "version": "3.10.16"
  }
 },
 "nbformat": 4,
 "nbformat_minor": 2
}

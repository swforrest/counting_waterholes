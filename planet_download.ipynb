{
 "cells": [
  {
   "cell_type": "markdown",
   "metadata": {},
   "source": [
    "## Import functions from planet_utils.py"
   ]
  },
  {
   "cell_type": "code",
   "execution_count": 1,
   "metadata": {},
   "outputs": [],
   "source": [
    "import counting_boats.boat_utils.planet_utils as planet_utils"
   ]
  },
  {
   "cell_type": "code",
   "execution_count": 28,
   "metadata": {},
   "outputs": [
    {
     "name": "stdout",
     "output_type": "stream",
     "text": [
      "['20230428_001914_67_2447', '20230428_001912_54_2447', '20230429_011114_44_240c', '20230429_011116_47_240c', '20230429_010138_90_24a3', '20230429_010136_74_24a3', '20230429_005634_74_2480', '20230429_005636_93_2480', '20230428_002142_96_2464', '20230428_002140_82_2464', '20230428_002145_09_2464', '20230427_005836_78_2478', '20230427_005841_12_2478', '20230427_005838_95_2478', '20230427_002619_98_24ce', '20230426_001643_43_2423', '20230426_001641_29_2423', '20230426_002416_33_24c3', '20230426_002411_74_24c3', '20230426_002414_03_24c3']\n"
     ]
    }
   ],
   "source": [
    "bulman_search = planet_utils.PlanetSearch(\n",
    "    polygon_file='data/polygons/bulman.geojson',\n",
    "    min_date='2023-04-25',\n",
    "    max_date='2023-04-30',\n",
    "    cloud_cover=0.5,\n",
    ")\n",
    "\n",
    "# print(bulman_search)\n",
    "\n",
    "# for item in bulman_search:\n",
    "#     print(item)\n",
    "\n",
    "# # let's look at the first result\n",
    "# print(list(bulman_search)[0])\n",
    "\n",
    "# extract image IDs only\n",
    "image_ids = [feature['id'] for feature in bulman_search]\n",
    "print(image_ids)"
   ]
  },
  {
   "cell_type": "code",
   "execution_count": 35,
   "metadata": {},
   "outputs": [
    {
     "name": "stdout",
     "output_type": "stream",
     "text": [
      "['20230428_001914_67_2447', '20230428_001912_54_2447', '20230428_002142_96_2464', '20230428_002140_82_2464', '20230428_002145_09_2464']\n"
     ]
    }
   ],
   "source": [
    "date_of_interest = '2023-04-28'\n",
    "\n",
    "bulman_select = planet_utils.PlanetSelect(\n",
    "    bulman_search,\n",
    "    polygon='data/polygons/bulman.geojson',\n",
    "    date=date_of_interest\n",
    ")\n",
    "\n",
    "# print(bulman_select)\n",
    "\n",
    "image_ids = [feature['id'] for feature in bulman_select]\n",
    "print(image_ids)"
   ]
  },
  {
   "cell_type": "code",
   "execution_count": 18,
   "metadata": {},
   "outputs": [],
   "source": [
    "bulman_order = planet_utils.PlanetOrder(\n",
    "    bulman_select,\n",
    "    polygon_file='data/polygons/bulman.geojson',\n",
    "    name='bulman_test2_2025-02-05',\n",
    ")"
   ]
  },
  {
   "cell_type": "code",
   "execution_count": 29,
   "metadata": {},
   "outputs": [
    {
     "name": "stdout",
     "output_type": "stream",
     "text": [
      "28d26a8f-963b-4009-952d-4da8daa2c292\n"
     ]
    }
   ],
   "source": [
    "print(bulman_order['id'])\n",
    "bulman_order_id = bulman_order['id']"
   ]
  },
  {
   "cell_type": "code",
   "execution_count": 33,
   "metadata": {},
   "outputs": [
    {
     "data": {
      "text/plain": [
       "'success'"
      ]
     },
     "execution_count": 33,
     "metadata": {},
     "output_type": "execute_result"
    }
   ],
   "source": [
    "planet_utils.PlanetCheckOrder(bulman_order_id)"
   ]
  },
  {
   "cell_type": "code",
   "execution_count": 36,
   "metadata": {},
   "outputs": [
    {
     "name": "stdout",
     "output_type": "stream",
     "text": [
      "https://api.planet.com/compute/ops/orders/v2/28d26a8f-963b-4009-952d-4da8daa2c292\n",
      "tempDL\\bulman_2023-04-28.zip tempDL\\bulman_2023-04-28368174 bytes\n"
     ]
    },
    {
     "data": {
      "text/plain": [
       "'2023-04-28_bulman.tif'"
      ]
     },
     "execution_count": 36,
     "metadata": {},
     "output_type": "execute_result"
    }
   ],
   "source": [
    "planet_utils.PlanetDownload(orderID=bulman_order_id,\n",
    "                            aoi='bulman',\n",
    "                            date=date_of_interest)"
   ]
  }
 ],
 "metadata": {
  "kernelspec": {
   "display_name": "Boats",
   "language": "python",
   "name": "python3"
  },
  "language_info": {
   "codemirror_mode": {
    "name": "ipython",
    "version": 3
   },
   "file_extension": ".py",
   "mimetype": "text/x-python",
   "name": "python",
   "nbconvert_exporter": "python",
   "pygments_lexer": "ipython3",
   "version": "3.10.16"
  }
 },
 "nbformat": 4,
 "nbformat_minor": 2
}

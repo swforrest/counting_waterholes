{
 "cells": [
  {
   "cell_type": "markdown",
   "metadata": {},
   "source": [
    "## Import functions from planet_utils.py"
   ]
  },
  {
   "cell_type": "code",
   "execution_count": 1,
   "metadata": {},
   "outputs": [],
   "source": [
    "import counting_boats.boat_utils.planet_utils as planet_utils"
   ]
  },
  {
   "cell_type": "code",
   "execution_count": 2,
   "metadata": {},
   "outputs": [
    {
     "name": "stdout",
     "output_type": "stream",
     "text": [
      "['20230430_000517_84_2445', '20230430_000515_55_2445', '20230430_005600_62_2479', '20230430_005602_82_2479', '20230429_011104_27_240c', '20230429_011108_34_240c', '20230429_011106_31_240c', '20230429_005625_99_2480', '20230429_005628_18_2480', '20230429_005623_80_2480', '20230428_002132_29_2464', '20230428_002134_42_2464', '20230428_002130_15_2464', '20230427_005828_12_2478', '20230427_005830_28_2478', '20230427_002608_44_24ce', '20230427_002606_13_24ce', '20230426_001630_59_2423', '20230426_001632_73_2423', '20230426_001634_87_2423', '20230426_002402_54_24c3', '20230426_002407_14_24c3', '20230426_002404_84_24c3']\n"
     ]
    }
   ],
   "source": [
    "bulman_search = planet_utils.PlanetSearch(\n",
    "    polygon_file='data/polygons/example.geojson',\n",
    "    min_date='2023-04-25',\n",
    "    max_date='2023-04-30',\n",
    "    cloud_cover=0.5,\n",
    ")\n",
    "\n",
    "# print(bulman_search)\n",
    "\n",
    "# for item in bulman_search:\n",
    "#     print(item)\n",
    "\n",
    "# # let's look at the first result\n",
    "# print(list(bulman_search)[0])\n",
    "\n",
    "# extract image IDs only\n",
    "image_ids = [feature['id'] for feature in bulman_search]\n",
    "print(image_ids)"
   ]
  },
  {
   "cell_type": "code",
   "execution_count": 4,
   "metadata": {},
   "outputs": [
    {
     "name": "stdout",
     "output_type": "stream",
     "text": [
      "['20230428_002132_29_2464', '20230428_002134_42_2464', '20230428_002130_15_2464']\n"
     ]
    }
   ],
   "source": [
    "date_of_interest = '2023-04-28'\n",
    "\n",
    "bulman_select = planet_utils.PlanetSelect(\n",
    "    bulman_search,\n",
    "    polygon='data/polygons/example.geojson',\n",
    "    date=date_of_interest\n",
    ")\n",
    "\n",
    "# print(bulman_select)\n",
    "\n",
    "image_ids = [feature['id'] for feature in bulman_select]\n",
    "print(image_ids)"
   ]
  },
  {
   "cell_type": "code",
   "execution_count": 5,
   "metadata": {},
   "outputs": [],
   "source": [
    "bulman_order = planet_utils.PlanetOrder(\n",
    "    bulman_select,\n",
    "    polygon_file='data/polygons/example.geojson',\n",
    "    name='example_2025-02-05',\n",
    ")"
   ]
  },
  {
   "cell_type": "code",
   "execution_count": 6,
   "metadata": {},
   "outputs": [
    {
     "name": "stdout",
     "output_type": "stream",
     "text": [
      "6a1bc25f-17a5-405a-848e-9b3c829ab111\n"
     ]
    }
   ],
   "source": [
    "print(bulman_order['id'])\n",
    "bulman_order_id = bulman_order['id']"
   ]
  },
  {
   "cell_type": "code",
   "execution_count": 17,
   "metadata": {},
   "outputs": [
    {
     "data": {
      "text/plain": [
       "'success'"
      ]
     },
     "execution_count": 17,
     "metadata": {},
     "output_type": "execute_result"
    }
   ],
   "source": [
    "planet_utils.PlanetCheckOrder(bulman_order_id)"
   ]
  },
  {
   "cell_type": "code",
   "execution_count": 18,
   "metadata": {},
   "outputs": [
    {
     "name": "stdout",
     "output_type": "stream",
     "text": [
      "tempDL\\example_2023-04-28.zip tempDL\\example_2023-04-283790 bytes\n"
     ]
    },
    {
     "data": {
      "text/plain": [
       "'2023-04-28_example.tif'"
      ]
     },
     "execution_count": 18,
     "metadata": {},
     "output_type": "execute_result"
    }
   ],
   "source": [
    "planet_utils.PlanetDownload(orderID=bulman_order_id,\n",
    "                            aoi='example',\n",
    "                            date=date_of_interest, \n",
    "                            downloadPath=\"raw_images\")"
   ]
  }
 ],
 "metadata": {
  "kernelspec": {
   "display_name": "Boats",
   "language": "python",
   "name": "python3"
  },
  "language_info": {
   "codemirror_mode": {
    "name": "ipython",
    "version": 3
   },
   "file_extension": ".py",
   "mimetype": "text/x-python",
   "name": "python",
   "nbconvert_exporter": "python",
   "pygments_lexer": "ipython3",
   "version": "3.10.16"
  }
 },
 "nbformat": 4,
 "nbformat_minor": 2
}

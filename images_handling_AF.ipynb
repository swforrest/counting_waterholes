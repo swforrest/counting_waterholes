{
 "cells": [
  {
   "cell_type": "markdown",
   "metadata": {},
   "source": [
    "Handelling of Images once they have been downloaded with planet_download.ipynb\n",
    "\n",
    "Replaces the run_script_AF.py once created but not needed to re-run everything. \n",
    "\n",
    "Will apply the extraction from the zip file of downloaded images from Planet; Prepare the images creating the PNG images from the tif file allowing for the manual annotation; and will segment the images for future analyses in the model. "
   ]
  },
  {
   "cell_type": "code",
   "execution_count": 1,
   "metadata": {},
   "outputs": [
    {
     "name": "stderr",
     "output_type": "stream",
     "text": [
      "YOLOv5  2025-2-5 Python-3.10.16 torch-2.5.1+cpu CPU\n",
      "\n",
      "Fusing layers... \n",
      "Model summary: 157 layers, 7015519 parameters, 0 gradients, 15.8 GFLOPs\n",
      "Adding AutoShape... \n"
     ]
    }
   ],
   "source": [
    "import sys\n",
    "import os\n",
    "import yaml\n",
    "\n",
    "# Add the project root to sys.path (adjust as needed)\n",
    "sys.path.append(os.path.abspath(r\"C:\\Users\\adria\\OneDrive - AdrianoFossati\\Documents\\MASTER Australia\\RA\\Waterholes_project\\counting_waterholes\"))\n",
    "\n",
    "\n",
    "from counting_boats.boat_utils.planet_utils import extract_zip\n",
    "from counting_boats.boat_utils.testing import prepare\n",
    "from counting_boats.boat_utils.testing import segment"
   ]
  },
  {
   "cell_type": "markdown",
   "metadata": {},
   "source": [
    "Extraction of the downloaded zip file: "
   ]
  },
  {
   "cell_type": "code",
   "execution_count": null,
   "metadata": {},
   "outputs": [],
   "source": [
    "# Define the path to your zip file\n",
    "zip_path = \"images/raw_images\"\n",
    "\n",
    "\n",
    "# Run extraction\n",
    "extract_zip(zip_path)"
   ]
  },
  {
   "cell_type": "markdown",
   "metadata": {},
   "source": [
    "Definition of the config to make sure it matches my paths and running the tif to png transformation. "
   ]
  },
  {
   "cell_type": "code",
   "execution_count": 9,
   "metadata": {},
   "outputs": [
    {
     "name": "stdout",
     "output_type": "stream",
     "text": [
      "Creating png for 20230428_example.tif\n",
      "Doing gdal work...\n",
      "Done with gdal work for 20230428_example.tif\n",
      "New Width:  9984 New Height:  6656\n"
     ]
    }
   ],
   "source": [
    "#cfg config:\n",
    "with open(\"config_train.yaml\", \"r\") as ymlfile:\n",
    "    cfg = yaml.load(ymlfile, Loader=yaml.FullLoader)\n",
    "    os.makedirs(cfg[\"output_dir\"], exist_ok=True)\n",
    "    cfg[\"tif_dir\"] = cfg.get(\n",
    "        \"tif_dir\", os.path.join(cfg[\"proj_root\"], \"images\", \"RawImages\")\n",
    "    )  # This is generated so not included in the config file\n",
    "\n",
    "#Run preparation of the tif files into png and renamed the tif. \n",
    "#prepare(r\"C:\\Users\\adria\\OneDrive - AdrianoFossati\\Documents\\MASTER Australia\\RA\\Waterholes_project\\counting_waterholes\\images\\RawImages\", cfg)\n",
    "#Use absolute relative not absolute \n",
    "prepare(\"images/RawImage\", cfg)\n",
    " "
   ]
  },
  {
   "cell_type": "markdown",
   "metadata": {},
   "source": [
    "Finally, run the segmentation of the image. "
   ]
  },
  {
   "cell_type": "code",
   "execution_count": 10,
   "metadata": {},
   "outputs": [
    {
     "ename": "Exception",
     "evalue": "('The image is not exactly divisible by the desired size of subset images', 'Width: ', 12064, 'Height: ', 8736, 'Stride: ', 104, 'Tile Size: ', 416)",
     "output_type": "error",
     "traceback": [
      "\u001b[1;31m---------------------------------------------------------------------------\u001b[0m",
      "\u001b[1;31mException\u001b[0m                                 Traceback (most recent call last)",
      "Cell \u001b[1;32mIn[10], line 1\u001b[0m\n\u001b[1;32m----> 1\u001b[0m \u001b[43msegment\u001b[49m\u001b[43m(\u001b[49m\u001b[38;5;124;43mr\u001b[39;49m\u001b[38;5;124;43m\"\u001b[39;49m\u001b[38;5;124;43mC:\u001b[39;49m\u001b[38;5;124;43m\\\u001b[39;49m\u001b[38;5;124;43mUsers\u001b[39;49m\u001b[38;5;124;43m\\\u001b[39;49m\u001b[38;5;124;43madria\u001b[39;49m\u001b[38;5;124;43m\\\u001b[39;49m\u001b[38;5;124;43mOneDrive - AdrianoFossati\u001b[39;49m\u001b[38;5;124;43m\\\u001b[39;49m\u001b[38;5;124;43mDocuments\u001b[39;49m\u001b[38;5;124;43m\\\u001b[39;49m\u001b[38;5;124;43mMASTER Australia\u001b[39;49m\u001b[38;5;124;43m\\\u001b[39;49m\u001b[38;5;124;43mRA\u001b[39;49m\u001b[38;5;124;43m\\\u001b[39;49m\u001b[38;5;124;43mWaterholes_project\u001b[39;49m\u001b[38;5;124;43m\\\u001b[39;49m\u001b[38;5;124;43mcounting_waterholes\u001b[39;49m\u001b[38;5;124;43m\\\u001b[39;49m\u001b[38;5;124;43mimages\u001b[39;49m\u001b[38;5;124;43m\"\u001b[39;49m\u001b[43m,\u001b[49m\u001b[43m \u001b[49m\u001b[43mcfg\u001b[49m\u001b[43m)\u001b[49m\n",
      "File \u001b[1;32mc:\\Users\\adria\\OneDrive - AdrianoFossati\\Documents\\MASTER Australia\\RA\\Waterholes_project\\counting_waterholes\\counting_boats\\boat_utils\\testing.py:139\u001b[0m, in \u001b[0;36msegment\u001b[1;34m(run_folder, config)\u001b[0m\n\u001b[0;32m    137\u001b[0m img_file \u001b[38;5;241m=\u001b[39m os\u001b[38;5;241m.\u001b[39mpath\u001b[38;5;241m.\u001b[39mjoin(pngs, filename[:\u001b[38;5;241m-\u001b[39m\u001b[38;5;241m5\u001b[39m] \u001b[38;5;241m+\u001b[39m \u001b[38;5;124m\"\u001b[39m\u001b[38;5;124m.png\u001b[39m\u001b[38;5;124m\"\u001b[39m)\n\u001b[0;32m    138\u001b[0m \u001b[38;5;28;01mif\u001b[39;00m os\u001b[38;5;241m.\u001b[39mpath\u001b[38;5;241m.\u001b[39misfile(img_file):  \u001b[38;5;66;03m# Check exists\u001b[39;00m\n\u001b[1;32m--> 139\u001b[0m     \u001b[43mics\u001b[49m\u001b[38;5;241;43m.\u001b[39;49m\u001b[43msegment_image\u001b[49m\u001b[43m(\u001b[49m\n\u001b[0;32m    140\u001b[0m \u001b[43m        \u001b[49m\u001b[43mimg_file\u001b[49m\u001b[43m,\u001b[49m\n\u001b[0;32m    141\u001b[0m \u001b[43m        \u001b[49m\u001b[43mos\u001b[49m\u001b[38;5;241;43m.\u001b[39;49m\u001b[43mpath\u001b[49m\u001b[38;5;241;43m.\u001b[39;49m\u001b[43mjoin\u001b[49m\u001b[43m(\u001b[49m\u001b[43mpngs\u001b[49m\u001b[43m,\u001b[49m\u001b[43m \u001b[49m\u001b[43mfilename\u001b[49m\u001b[43m)\u001b[49m\u001b[43m,\u001b[49m\n\u001b[0;32m    142\u001b[0m \u001b[43m        \u001b[49m\u001b[43mtile_size\u001b[49m\u001b[43m,\u001b[49m\n\u001b[0;32m    143\u001b[0m \u001b[43m        \u001b[49m\u001b[43mstride\u001b[49m\u001b[43m,\u001b[49m\n\u001b[0;32m    144\u001b[0m \u001b[43m        \u001b[49m\u001b[43mremove_empty\u001b[49m\u001b[38;5;241;43m=\u001b[39;49m\u001b[38;5;241;43m0\u001b[39;49m\u001b[43m,\u001b[49m\n\u001b[0;32m    145\u001b[0m \u001b[43m        \u001b[49m\u001b[43mim_outdir\u001b[49m\u001b[38;5;241;43m=\u001b[39;49m\u001b[43mim_save_folder\u001b[49m\u001b[43m,\u001b[49m\n\u001b[0;32m    146\u001b[0m \u001b[43m        \u001b[49m\u001b[43mlabels_outdir\u001b[49m\u001b[38;5;241;43m=\u001b[39;49m\u001b[43mlabel_save_folder\u001b[49m\u001b[43m,\u001b[49m\n\u001b[0;32m    147\u001b[0m \u001b[43m    \u001b[49m\u001b[43m)\u001b[49m\n\u001b[0;32m    148\u001b[0m \u001b[38;5;28;01melse\u001b[39;00m:\n\u001b[0;32m    149\u001b[0m     \u001b[38;5;28mprint\u001b[39m(\u001b[38;5;124mf\u001b[39m\u001b[38;5;124m\"\u001b[39m\u001b[38;5;124mCould not find image file for \u001b[39m\u001b[38;5;132;01m{\u001b[39;00mfilename\u001b[38;5;132;01m}\u001b[39;00m\u001b[38;5;124m\"\u001b[39m)\n",
      "File \u001b[1;32mc:\\Users\\adria\\OneDrive - AdrianoFossati\\Documents\\MASTER Australia\\RA\\Waterholes_project\\counting_waterholes\\counting_boats\\boat_utils\\image_cutting_support.py:318\u001b[0m, in \u001b[0;36msegment_image\u001b[1;34m(image, json_file, tile_size, stride, metadata_components, remove_empty, im_outdir, labels_outdir)\u001b[0m\n\u001b[0;32m    316\u001b[0m \u001b[38;5;66;03m# Ensure that the image is divisible by the desired size with no remainder.\u001b[39;00m\n\u001b[0;32m    317\u001b[0m \u001b[38;5;28;01mif\u001b[39;00m width \u001b[38;5;241m%\u001b[39m (stride \u001b[38;5;241m+\u001b[39m tile_size) \u001b[38;5;241m!=\u001b[39m \u001b[38;5;241m0\u001b[39m \u001b[38;5;129;01mor\u001b[39;00m height \u001b[38;5;241m%\u001b[39m (stride \u001b[38;5;241m+\u001b[39m tile_size) \u001b[38;5;241m!=\u001b[39m \u001b[38;5;241m0\u001b[39m:\n\u001b[1;32m--> 318\u001b[0m     \u001b[38;5;28;01mraise\u001b[39;00m \u001b[38;5;167;01mException\u001b[39;00m(\n\u001b[0;32m    319\u001b[0m         \u001b[38;5;124m\"\u001b[39m\u001b[38;5;124mThe image is not exactly divisible by the desired size of subset images\u001b[39m\u001b[38;5;124m\"\u001b[39m,\n\u001b[0;32m    320\u001b[0m         \u001b[38;5;124m\"\u001b[39m\u001b[38;5;124mWidth: \u001b[39m\u001b[38;5;124m\"\u001b[39m,\n\u001b[0;32m    321\u001b[0m         width,\n\u001b[0;32m    322\u001b[0m         \u001b[38;5;124m\"\u001b[39m\u001b[38;5;124mHeight: \u001b[39m\u001b[38;5;124m\"\u001b[39m,\n\u001b[0;32m    323\u001b[0m         height,\n\u001b[0;32m    324\u001b[0m         \u001b[38;5;124m\"\u001b[39m\u001b[38;5;124mStride: \u001b[39m\u001b[38;5;124m\"\u001b[39m,\n\u001b[0;32m    325\u001b[0m         stride,\n\u001b[0;32m    326\u001b[0m         \u001b[38;5;124m\"\u001b[39m\u001b[38;5;124mTile Size: \u001b[39m\u001b[38;5;124m\"\u001b[39m,\n\u001b[0;32m    327\u001b[0m         tile_size,\n\u001b[0;32m    328\u001b[0m     )\n\u001b[0;32m    330\u001b[0m \u001b[38;5;28mprint\u001b[39m(\u001b[38;5;124m\"\u001b[39m\u001b[38;5;124mCropping Image: \u001b[39m\u001b[38;5;124m\"\u001b[39m \u001b[38;5;241m+\u001b[39m image)\n\u001b[0;32m    332\u001b[0m image_array \u001b[38;5;241m=\u001b[39m np\u001b[38;5;241m.\u001b[39marray(openImage)\n",
      "\u001b[1;31mException\u001b[0m: ('The image is not exactly divisible by the desired size of subset images', 'Width: ', 12064, 'Height: ', 8736, 'Stride: ', 104, 'Tile Size: ', 416)"
     ]
    }
   ],
   "source": [
    "segment(r\"C:\\Users\\adria\\OneDrive - AdrianoFossati\\Documents\\MASTER Australia\\RA\\Waterholes_project\\counting_waterholes\\images\", cfg)\n"
   ]
  },
  {
   "cell_type": "markdown",
   "metadata": {},
   "source": [
    "End of this script. "
   ]
  }
 ],
 "metadata": {
  "kernelspec": {
   "display_name": "Boats",
   "language": "python",
   "name": "python3"
  },
  "language_info": {
   "codemirror_mode": {
    "name": "ipython",
    "version": 3
   },
   "file_extension": ".py",
   "mimetype": "text/x-python",
   "name": "python",
   "nbconvert_exporter": "python",
   "pygments_lexer": "ipython3",
   "version": "3.10.16"
  }
 },
 "nbformat": 4,
 "nbformat_minor": 2
}

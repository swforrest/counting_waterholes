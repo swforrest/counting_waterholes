{
 "cells": [
  {
   "cell_type": "markdown",
   "metadata": {},
   "source": [
    "Handelling of Images once they have been downloaded with planet_download.ipynb\n",
    "\n",
    "Replaces the run_script_AF.py once created but not needed to re-run everything. \n",
    "\n",
    "Will apply the extraction from the zip file of downloaded images from Planet; Prepare the images creating the PNG images from the tif file allowing for the manual annotation; and will segment the images for future analyses in the model. "
   ]
  },
  {
   "cell_type": "code",
   "execution_count": 5,
   "metadata": {},
   "outputs": [],
   "source": [
    "import sys\n",
    "import os\n",
    "import yaml\n",
    "\n",
    "# Add the project root to sys.path (adjust as needed)\n",
    "sys.path.append(os.path.abspath(\"counting_waterholes\"))\n",
    "\n",
    "\n",
    "import counting_boats.boat_utils.planet_utils as planet_utils\n",
    "import counting_boats.boat_utils.testing as testing"
   ]
  },
  {
   "cell_type": "markdown",
   "metadata": {},
   "source": [
    "Extraction of the downloaded zip file: "
   ]
  },
  {
   "cell_type": "code",
   "execution_count": null,
   "metadata": {},
   "outputs": [],
   "source": [
    "# Define the path to your zip file\n",
    "zip_path = \"images/raw_images\"\n",
    "\n",
    "\n",
    "# Run extraction\n",
    "extract_zip(zip_path)"
   ]
  },
  {
   "cell_type": "markdown",
   "metadata": {},
   "source": [
    "Definition of the config to make sure it matches my paths and running the tif to png transformation. "
   ]
  },
  {
   "cell_type": "code",
   "execution_count": 9,
   "metadata": {},
   "outputs": [
    {
     "name": "stdout",
     "output_type": "stream",
     "text": [
      "Creating png for 20230428_example.tif\n",
      "Doing gdal work...\n",
      "Done with gdal work for 20230428_example.tif\n",
      "New Width:  9984 New Height:  6656\n"
     ]
    }
   ],
   "source": [
    "#cfg config:\n",
    "with open(\"config_train.yaml\", \"r\") as ymlfile:\n",
    "    cfg = yaml.load(ymlfile, Loader=yaml.FullLoader)\n",
    "    os.makedirs(cfg[\"output_dir\"], exist_ok=True)\n",
    "    cfg[\"tif_dir\"] = cfg.get(\n",
    "        \"tif_dir\", os.path.join(cfg[\"proj_root\"], \"images\", \"RawImages\")\n",
    "    )  # This is generated so not included in the config file\n",
    "\n",
    "#Run preparation of the tif files into png and renamed the tif. \n",
    "#prepare(r\"C:\\Users\\adria\\OneDrive - AdrianoFossati\\Documents\\MASTER Australia\\RA\\Waterholes_project\\counting_waterholes\\images\\RawImages\", cfg)\n",
    "#Use absolute relative not absolute \n",
    "prepare(\"images/RawImage\", cfg)\n",
    " "
   ]
  },
  {
   "cell_type": "markdown",
   "metadata": {},
   "source": [
    "Finally, run the segmentation of the image. "
   ]
  },
  {
   "cell_type": "code",
   "execution_count": 2,
   "metadata": {},
   "outputs": [],
   "source": [
    "import counting_boats.train"
   ]
  },
  {
   "cell_type": "code",
   "execution_count": null,
   "metadata": {},
   "outputs": [
    {
     "name": "stdout",
     "output_type": "stream",
     "text": [
      "test phase1\n",
      "{'yolo_dir': 'C:\\\\Users\\\\adria\\\\OneDrive - AdrianoFossati\\\\Documents\\\\MASTER Australia\\\\RA\\\\Waterholes_project\\\\yolov5', 'python': 'python', 'raw_images': 'C:\\\\Users\\\\adria\\\\OneDrive - AdrianoFossati\\\\Documents\\\\MASTER Australia\\\\RA\\\\Waterholes_project\\\\counting_waterholes\\\\images\\\\RawImages', 'proj_root': 'C:\\\\Users\\\\adria\\\\OneDrive - AdrianoFossati\\\\Documents\\\\MASTER Australia\\\\RA\\\\Waterholes_project\\\\counting_waterholes', 'output_dir': 'C:\\\\Users\\\\adria\\\\OneDrive - AdrianoFossati\\\\Documents\\\\MASTER Australia\\\\RA\\\\Waterholes_project\\\\counting_waterholes\\\\results', 'weights': './data/NN_weights.pt', 'cache': False, 'workers': 6, 'BATCH_SIZE': 8, 'EPOCHS': 500, 'img_size': 416, 'img_stride': 104, 'path': 'C:\\\\Users\\\\adria\\\\OneDrive - AdrianoFossati\\\\Documents\\\\MASTER Australia\\\\RA\\\\Waterholes_project\\\\counting_waterholes', 'pngs': 'C:\\\\Users\\\\adria\\\\OneDrive - AdrianoFossati\\\\Documents\\\\MASTER Australia\\\\RA\\\\Waterholes_project\\\\counting_waterholes\\\\images\\\\pngs', 'segmented_images': '.\\\\images\\\\SegmentedImages', 'labels': '.\\\\images\\\\Labels', 'classifications': '.\\\\images\\\\classifications', 'train': ['\\\\\\\\hpc-fs.qut.edu.au\\\\turner30\\\\Projects\\\\Boats\\\\Training\\\\trainOrig\\\\trainFinal\\\\images'], 'val': None, 'names': {0: 'boat'}}\n",
      "test phase2\n"
     ]
    }
   ],
   "source": [
    "import os\n",
    "import yaml\n",
    "\n",
    "#from counting_boats.train import segment\n",
    "\n",
    "\n",
    "#segment the png images\n",
    "counting_boats.train.segment(\"config_train.yaml\")\n"
   ]
  },
  {
   "cell_type": "markdown",
   "metadata": {},
   "source": [
    "End of this script. "
   ]
  }
 ],
 "metadata": {
  "kernelspec": {
   "display_name": "Boats",
   "language": "python",
   "name": "python3"
  },
  "language_info": {
   "codemirror_mode": {
    "name": "ipython",
    "version": 3
   },
   "file_extension": ".py",
   "mimetype": "text/x-python",
   "name": "python",
   "nbconvert_exporter": "python",
   "pygments_lexer": "ipython3",
   "version": "3.10.16"
  }
 },
 "nbformat": 4,
 "nbformat_minor": 2
}

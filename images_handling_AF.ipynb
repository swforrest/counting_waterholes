{
 "cells": [
  {
   "cell_type": "markdown",
   "metadata": {},
   "source": [
    "Handelling of Images once they have been downloaded with planet_download.ipynb\n",
    "\n",
    "Replaces the run_script_AF.py once created but not needed to re-run everything. \n",
    "\n",
    "Will apply the extraction from the zip file of downloaded images from Planet; Prepare the images creating the PNG images from the tif file allowing for the manual annotation; and will segment the images for future analyses in the model. "
   ]
  },
  {
   "cell_type": "code",
   "execution_count": 1,
   "metadata": {},
   "outputs": [
    {
     "name": "stderr",
     "output_type": "stream",
     "text": [
      "YOLOv5  2025-2-5 Python-3.10.16 torch-2.5.1+cpu CPU\n",
      "\n",
      "Fusing layers... \n",
      "Model summary: 157 layers, 7015519 parameters, 0 gradients, 15.8 GFLOPs\n",
      "Adding AutoShape... \n"
     ]
    }
   ],
   "source": [
    "import sys\n",
    "import os\n",
    "import yaml\n",
    "\n",
    "# Add the project root to sys.path (adjust as needed)\n",
    "sys.path.append(os.path.abspath(r\"C:\\Users\\adria\\OneDrive - AdrianoFossati\\Documents\\MASTER Australia\\RA\\Waterholes_project\\counting_waterholes\"))\n",
    "\n",
    "\n",
    "from counting_boats.boat_utils.planet_utils import extract_zip\n",
    "from counting_boats.boat_utils.testing import prepare\n",
    "from counting_boats.boat_utils.testing import segment"
   ]
  },
  {
   "cell_type": "markdown",
   "metadata": {},
   "source": [
    "Extraction of the downloaded zip file: "
   ]
  },
  {
   "cell_type": "code",
   "execution_count": null,
   "metadata": {},
   "outputs": [],
   "source": [
    "# Define the path to your zip file\n",
    "zip_path = r\"C:\\Users\\adria\\OneDrive - AdrianoFossati\\Documents\\MASTER Australia\\RA\\Waterholes_project\\counting_waterholes\\images\\raw_images\"\n",
    "\n",
    "\n",
    "# Run extraction\n",
    "extract_zip(zip_path)"
   ]
  },
  {
   "cell_type": "markdown",
   "metadata": {},
   "source": [
    "Definition of the config to make sure it matches my paths and running the tif to png transformation. "
   ]
  },
  {
   "cell_type": "code",
   "execution_count": 3,
   "metadata": {},
   "outputs": [
    {
     "name": "stdout",
     "output_type": "stream",
     "text": [
      "Creating png for 20231115_003004_47_2465_3B_udm2.tif\n",
      "Doing gdal work...\n",
      "Done with gdal work for 20231115_003004_47_2465_3B_udm2.tif\n",
      "New Width:  12064 New Height:  8736\n"
     ]
    }
   ],
   "source": [
    "#cfg config:\n",
    "with open(\"config_train.yaml\", \"r\") as ymlfile:\n",
    "    cfg = yaml.load(ymlfile, Loader=yaml.FullLoader)\n",
    "    os.makedirs(cfg[\"output_dir\"], exist_ok=True)\n",
    "    cfg[\"tif_dir\"] = cfg.get(\n",
    "        \"tif_dir\", os.path.join(cfg[\"proj_root\"], \"images\", \"raw_images\")\n",
    "    )  # This is generated so not included in the config file\n",
    "\n",
    "#Run preparation of the tif files into png and renamed the tif. \n",
    "prepare(r\"C:\\Users\\adria\\OneDrive - AdrianoFossati\\Documents\\MASTER Australia\\RA\\Waterholes_project\\counting_waterholes\\images\\RawImages\", cfg)\n",
    " "
   ]
  },
  {
   "cell_type": "markdown",
   "metadata": {},
   "source": [
    "Finally, run the segmentation of the image. "
   ]
  },
  {
   "cell_type": "code",
   "execution_count": null,
   "metadata": {},
   "outputs": [],
   "source": [
    "segment(r\"C:\\Users\\adria\\OneDrive - AdrianoFossati\\Documents\\MASTER Australia\\RA\\Waterholes_project\\counting_waterholes\\images\", cfg)\n"
   ]
  },
  {
   "cell_type": "markdown",
   "metadata": {},
   "source": [
    "End of this script. "
   ]
  }
 ],
 "metadata": {
  "kernelspec": {
   "display_name": "Boats",
   "language": "python",
   "name": "python3"
  },
  "language_info": {
   "codemirror_mode": {
    "name": "ipython",
    "version": 3
   },
   "file_extension": ".py",
   "mimetype": "text/x-python",
   "name": "python",
   "nbconvert_exporter": "python",
   "pygments_lexer": "ipython3",
   "version": "3.10.16"
  }
 },
 "nbformat": 4,
 "nbformat_minor": 2
}
